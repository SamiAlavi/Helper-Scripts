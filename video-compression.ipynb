{
  "cells": [
    {
      "cell_type": "code",
      "execution_count": 1,
      "metadata": {
        "colab": {
          "base_uri": "https://localhost:8080/"
        },
        "id": "dJNca9ZouoFA",
        "outputId": "48278494-d972-4bf3-9fe4-2002d08b4f33"
      },
      "outputs": [
        {
          "name": "stdout",
          "output_type": "stream",
          "text": [
            "Reading package lists... Done\n",
            "Building dependency tree       \n",
            "Reading state information... Done\n",
            "ffmpeg is already the newest version (7:4.2.7-0ubuntu0.1).\n",
            "0 upgraded, 0 newly installed, 0 to remove and 24 not upgraded.\n"
          ]
        }
      ],
      "source": [
        "!apt install ffmpeg"
      ]
    },
    {
      "cell_type": "code",
      "execution_count": null,
      "metadata": {
        "id": "NCqkQlW4u086"
      },
      "outputs": [],
      "source": [
        "from google.colab import drive\n",
        "\n",
        "drive.mount('/content/drive')"
      ]
    },
    {
      "cell_type": "code",
      "execution_count": 7,
      "metadata": {
        "id": "2c-OubR8u-1T"
      },
      "outputs": [],
      "source": [
        "import os\n",
        "import subprocess\n",
        "import shutil"
      ]
    },
    {
      "cell_type": "code",
      "execution_count": 28,
      "metadata": {
        "id": "oDWoMY0KvYUf"
      },
      "outputs": [],
      "source": [
        "def write_error(input_filepath, error):\n",
        "    text = f'{input_filepath}\\r\\n{error}'\n",
        "    with open(\"errors.txt\", mode='a+') as file:\n",
        "        file.write(text)\n",
        "\n",
        "def get_files_list(dir_path):\n",
        "    files_list = []\n",
        "    for root, _, files in os.walk(dir_path):\n",
        "        for file in files:\n",
        "            if not file.endswith('.mp4'):\n",
        "                continue\n",
        "            file_path = os.path.join(root, file)\n",
        "            files_list.append(file_path)\n",
        "    return files_list\n",
        "\n",
        "def copy(input_filepath, output_filepath):\n",
        "    shutil.copy2(input_filepath, output_filepath)\n",
        "\n",
        "def compress_video(input_filepath, output_filepath):\n",
        "    # Construct FFmpeg command to compress video\n",
        "    ffmpeg_cmd = ['ffmpeg',\n",
        "                '-hide_banner', # hide FFmpeg banner\n",
        "                '-loglevel', 'quiet', # set logging level to quiet\n",
        "                '-progress', 'pipe:1', # output progress information in machine-readable format\n",
        "                '-i', input_filepath,\n",
        "                '-c:v', 'hevc_nvenc', # libx265 for x265 software encoding, hevc_nvenc for x265 hardware encoding\n",
        "                '-gpu', '0', # if gpu available, else remove this line\n",
        "                '-preset', 'slow',\n",
        "                '-b:v', '0',\n",
        "                '-maxrate', '0',\n",
        "                '-bufsize', '0',\n",
        "                '-movflags', '+faststart',\n",
        "                '-c:a', 'copy',\n",
        "                output_filepath]\n",
        "\n",
        "    # Execute FFmpeg command using subprocess\n",
        "    process = subprocess.Popen(ffmpeg_cmd, stdout=subprocess.PIPE, stderr=subprocess.PIPE)\n",
        "    out, err = process.communicate()\n",
        "    # print(out)\n",
        "\n",
        "def get_directory_size(dir_path):\n",
        "    total_size = 0\n",
        "    num_files = 0\n",
        "    for dirpath, dirnames, filenames in os.walk(dir_path):\n",
        "        for f in filenames:\n",
        "            fp = os.path.join(dirpath, f)\n",
        "            total_size += os.path.getsize(fp)\n",
        "            num_files+=1\n",
        "    print(f\"The size for {dir_path} is {total_size/1024/1024/1024} GBs (files: {num_files})\")"
      ]
    },
    {
      "cell_type": "code",
      "execution_count": 11,
      "metadata": {
        "id": "NPE7pcvuvGOz"
      },
      "outputs": [],
      "source": [
        "parent_dir = \"./\"\n",
        "input_dir = f\"{parent_dir}input/\"\n",
        "output_dir = f\"{parent_dir}output/\"\n",
        "\n",
        "files_list = get_files_list(input_dir)\n",
        "length = len(files_list)"
      ]
    },
    {
      "cell_type": "code",
      "execution_count": null,
      "metadata": {},
      "outputs": [],
      "source": [
        "for i, input_filepath in enumerate(files_list):\n",
        "    print(f'{i+1}/{length}) {input_filepath}')\n",
        "\n",
        "    file_name = input_filepath.split('/')[-1]\n",
        "    output_filepath = f'{output_dir}{file_name}'\n",
        "\n",
        "    if os.path.exists(output_filepath):\n",
        "        continue\n",
        "    try:\n",
        "        if input_filepath.endswith('.mp4'):\n",
        "            compress_video(input_filepath, output_filepath)\n",
        "        else:\n",
        "            copy(input_filepath, output_filepath)\n",
        "    except Exception as e:\n",
        "        write_error(input_filepath, e)"
      ]
    },
    {
      "cell_type": "code",
      "execution_count": null,
      "metadata": {
        "id": "QhpNo8ZlPWd4"
      },
      "outputs": [],
      "source": [
        "get_directory_size('drive/MyDrive')"
      ]
    }
  ],
  "metadata": {
    "accelerator": "GPU",
    "colab": {
      "provenance": []
    },
    "gpuClass": "standard",
    "kernelspec": {
      "display_name": "Python 3",
      "name": "python3"
    },
    "language_info": {
      "name": "python"
    }
  },
  "nbformat": 4,
  "nbformat_minor": 0
}
